{
 "metadata": {
  "language_info": {
   "codemirror_mode": {
    "name": "ipython",
    "version": 3
   },
   "file_extension": ".py",
   "mimetype": "text/x-python",
   "name": "python",
   "nbconvert_exporter": "python",
   "pygments_lexer": "ipython3",
   "version": "3.8.5-final"
  },
  "orig_nbformat": 2,
  "kernelspec": {
   "name": "python3",
   "display_name": "Python 3.8.5 64-bit ('base': conda)",
   "metadata": {
    "interpreter": {
     "hash": "cf740df15a5e055dfe48b0df22b44e4a22dde684e302e1f2223044f5c8764725"
    }
   }
  }
 },
 "nbformat": 4,
 "nbformat_minor": 2,
 "cells": [
  {
   "cell_type": "code",
   "execution_count": 10,
   "metadata": {},
   "outputs": [],
   "source": [
    "from IPython.display import clear_output\n",
    "\n",
    "def display_board(board):\n",
    "    print(board[1] + '|' + board[2] + '|' + board[3])\n",
    "    print('-----')\n",
    "    print(board[4] + '|' + board[5] + '|' + board[6])\n",
    "    print('-----')\n",
    "    print(board[7] + '|' + board[8] + '|' + board[9])"
   ]
  },
  {
   "cell_type": "code",
   "execution_count": 4,
   "metadata": {},
   "outputs": [
    {
     "output_type": "stream",
     "name": "stdout",
     "text": [
      "X|O|X\n-----\nO|X|O\n-----\nX|O|X\n"
     ]
    }
   ],
   "source": [
    "test_board = ['#', 'X', 'O', 'X', 'O', 'X', 'O', 'X', 'O', 'X']\n",
    "display_board(test_board)"
   ]
  },
  {
   "cell_type": "code",
   "execution_count": 1,
   "metadata": {},
   "outputs": [],
   "source": [
    "def player_input():\n",
    "\n",
    "    '''\n",
    "    TUPLE UNPACKING\n",
    "    OUTPUT = (Player 1 Marker, Player 2 Marker)\n",
    "    '''\n",
    "\n",
    "    marker = ''\n",
    "\n",
    "    while marker != 'X' and marker != 'O':\n",
    "        marker = input(\"Player 1: Choose 'X' or 'O': \").upper()\n",
    "    if marker == 'X':\n",
    "        return ('X', 'O')\n",
    "    else:\n",
    "        return ('O', 'X')"
   ]
  },
  {
   "cell_type": "code",
   "execution_count": 2,
   "metadata": {},
   "outputs": [],
   "source": [
    "'''\n",
    "TAKES IN BOARD LIST OBJECT, THE MARKER ('X OR 'O'), AND THE DESIRED POISITION (1-9)\n",
    "'''\n",
    "def place_marker(board, marker, position):\n",
    "    board[position] = marker"
   ]
  },
  {
   "cell_type": "code",
   "execution_count": 3,
   "metadata": {},
   "outputs": [],
   "source": [
    "'''\n",
    "CHECKS FOR WINNER USING INDEXING\n",
    "'''\n",
    "def win_check(board, mark):\n",
    "    return ((board[1] == mark and board[2] == mark and board[3]) == mark or\n",
    "    (board[4] == mark and board[5] == mark and board[6] == mark) or \n",
    "    (board[7] == mark and board[8] == mark and board[9] == mark) or\n",
    "    (board[1] == mark and board[5] == mark and board[9] == mark) or\n",
    "    (board[3] == mark and board[5] == mark and board[7] == mark) or\n",
    "    (board[2] == mark and board[5] == mark and board[8] == mark) or\n",
    "    (board[1] == mark and board[4] == mark and board[7] == mark) or\n",
    "    (board[3] == mark and board[6] == mark and board[9] == mark))"
   ]
  },
  {
   "cell_type": "code",
   "execution_count": 4,
   "metadata": {},
   "outputs": [],
   "source": [
    "'''\n",
    "ESSENTIALLY A COINFLIP\n",
    "'''\n",
    "import random\n",
    "\n",
    "def choose_first():\n",
    "\n",
    "    flip = random.randint(0, 1)\n",
    "\n",
    "    if flip == 0:\n",
    "        return 'Player 1'\n",
    "    else:\n",
    "        return 'Player 2'"
   ]
  },
  {
   "cell_type": "code",
   "execution_count": 5,
   "metadata": {},
   "outputs": [],
   "source": [
    "'''\n",
    "CHECKS IF SPACE IS AVAILABLE\n",
    "'''\n",
    "def space_check(board, position):\n",
    "    return board[position] == ' '"
   ]
  },
  {
   "cell_type": "code",
   "execution_count": 6,
   "metadata": {},
   "outputs": [],
   "source": [
    "'''\n",
    "FULL BOARD CHECK\n",
    "'''\n",
    "def full_board_check(board):\n",
    "    for i in range(1, 10):\n",
    "        if space_check(board, i):\n",
    "            return False\n",
    "    return True"
   ]
  },
  {
   "cell_type": "code",
   "execution_count": 7,
   "metadata": {},
   "outputs": [],
   "source": [
    "'''\n",
    "USES space_check() TO CHECK USER INPUT AGAINST THE BOARD\n",
    "'''\n",
    "def player_choice(board):\n",
    "\n",
    "    position = 0\n",
    "\n",
    "    while position not in [1,2,3,4,5,6,7,8,9] or not space_check(board, position):\n",
    "        position = int(input(('Choose a position (1-9): ')))\n",
    "\n",
    "    return position"
   ]
  },
  {
   "cell_type": "code",
   "execution_count": 8,
   "metadata": {},
   "outputs": [],
   "source": [
    "'''\n",
    "REPLAY FUNC\n",
    "'''\n",
    "def replay():\n",
    "    \n",
    "    choice = 'lorem'\n",
    "\n",
    "    while choice.upper() not in ['Y', 'N']:\n",
    "        \n",
    "        choice = input(\"Would you like to play again? Enter 'Y' or 'N': \")\n",
    "\n",
    "        if choice.upper() not in ['Y', 'N']:\n",
    "            print(\"Sorry! Invalid input. Try again!\")\n",
    "\n",
    "    if choice.upper() == 'Y':\n",
    "        return True\n",
    "    else:\n",
    "        return False"
   ]
  },
  {
   "cell_type": "code",
   "execution_count": 11,
   "metadata": {},
   "outputs": [
    {
     "output_type": "stream",
     "name": "stdout",
     "text": [
      "Welcome to Tic Tac Toe!\n",
      "Player 2 will  go first.\n",
      " | | \n",
      "-----\n",
      " | | \n",
      "-----\n",
      " | | \n",
      "O| | \n",
      "-----\n",
      " | | \n",
      "-----\n",
      " | | \n",
      "O|X| \n",
      "-----\n",
      " | | \n",
      "-----\n",
      " | | \n",
      "O|X| \n",
      "-----\n",
      "O| | \n",
      "-----\n",
      " | | \n",
      "O|X| \n",
      "-----\n",
      "O|X| \n",
      "-----\n",
      " | | \n",
      "O|X| \n",
      "-----\n",
      "O|X| \n",
      "-----\n",
      "O| | \n",
      "Player 2 has won!\n"
     ]
    }
   ],
   "source": [
    "# WHILE LOOP TO KEEP RUNNING GAME\n",
    "print('Welcome to Tic Tac Toe!')\n",
    "\n",
    "while True:\n",
    "\n",
    "    # PLAY THE GAME\n",
    "    # SET UP\n",
    "    game_board = [' ']*10\n",
    "    player1_marker, player2_marker = player_input()\n",
    "    turn = choose_first()\n",
    "    print(turn + ' will  go first.')\n",
    "\n",
    "    play_game = input(\"Ready to play? Enter 'Y' or 'N'? \")\n",
    "\n",
    "    if play_game.upper() == 'Y':\n",
    "        game_on = True\n",
    "    else:\n",
    "        game_on = False\n",
    "    ## GAME PLAY\n",
    "    ##PLAYER 1 TURN\n",
    "\n",
    "    while game_on:\n",
    "        if turn == 'Player 1':\n",
    "            # SHOW BOARD\n",
    "            display_board(game_board)\n",
    "            # CHOOSE POISITION\n",
    "            position = player_choice(game_board)\n",
    "            # PLACE MARKER\n",
    "            place_marker(game_board, player1_marker, position)\n",
    "            # CHECK WIN\n",
    "            if win_check(game_board, player1_marker):\n",
    "                display_board(game_board)\n",
    "                print('Player 1 has won!')\n",
    "                game_on = False\n",
    "            # CHECK TIE\n",
    "            else:\n",
    "                if full_board_check(game_board):\n",
    "                    display_board(game_board)\n",
    "                    print('Tie game!')\n",
    "                    game_on = False\n",
    "                else:\n",
    "                    turn = 'Player 2'\n",
    "        else:\n",
    "            # SHOW BOARD\n",
    "            display_board(game_board)\n",
    "            # CHOOSE POISITION\n",
    "            position = player_choice(game_board)\n",
    "            # PLACE MARKER\n",
    "            place_marker(game_board, player2_marker, position)\n",
    "            # CHECK WIN\n",
    "            if win_check(game_board, player2_marker):\n",
    "                display_board(game_board)\n",
    "                print('Player 2 has won!')\n",
    "                game_on = False\n",
    "            # CHECK TIE\n",
    "            else:\n",
    "                if full_board_check(game_board):\n",
    "                    display_board(game_board)\n",
    "                    print('Tie game!')\n",
    "                    game_on = False\n",
    "                else:\n",
    "                    turn = 'Player 1'\n",
    "\n",
    "    if not replay():\n",
    "        break"
   ]
  },
  {
   "cell_type": "code",
   "execution_count": null,
   "metadata": {},
   "outputs": [],
   "source": []
  }
 ]
}